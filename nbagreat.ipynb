{
 "cells": [
  {
   "cell_type": "markdown",
   "metadata": {
    "toc": true
   },
   "source": [
    "<h1>Table of Contents<span class=\"tocSkip\"></span></h1>\n",
    "<div class=\"toc\"><ul class=\"toc-item\"></ul></div>"
   ]
  },
  {
   "cell_type": "code",
   "execution_count": 90,
   "metadata": {},
   "outputs": [
    {
     "name": "stdout",
     "output_type": "stream",
     "text": [
      "The autoreload extension is already loaded. To reload it, use:\n",
      "  %reload_ext autoreload\n"
     ]
    }
   ],
   "source": [
    "%load_ext autoreload\n",
    "%autoreload 2\n",
    "\n",
    "from bs4 import BeautifulSoup\n",
    "import requests\n",
    "from bs4 import Comment, Tag\n",
    "import pandas as pd\n",
    "import bs4\n",
    "from dictionaries import *\n",
    "PATH = '/Users/doguaraci/Desktop/nba'"
   ]
  },
  {
   "cell_type": "code",
   "execution_count": 55,
   "metadata": {},
   "outputs": [],
   "source": [
    "def get_html(link):\n",
    "    source = requests.get(link).text\n",
    "    soup = BeautifulSoup(source,'html5lib') \n",
    "    \n",
    "    return soup\n",
    "\n",
    "def get_table_html(soup):\n",
    "    for comment in soup.find_all(text=lambda e: isinstance(e, bs4.Comment)):\n",
    "        tag = bs4.Tag(name=\"comment\")\n",
    "        tag.string = comment.strip()\n",
    "        comment.replace_with(tag)\n",
    "    a = soup.find_all('comment')\n",
    "    text = str(a[21])\n",
    "    text = text.replace('&lt;','<')\n",
    "    text = text.replace('&gt;','>')\n",
    "    \n",
    "    result = BeautifulSoup(text,'html5lib') \n",
    "    \n",
    "    return result.find('table')\n",
    "\n",
    "def get_match_list(soup):\n",
    "    games = []\n",
    "    for a in soup.find_all('tr')[1:]:    \n",
    "        newdict = {}\n",
    "        for d in a.find_all('td'):\n",
    "            newdict[d['data-stat']] = d.text\n",
    "            games.append(newdict)   \n",
    "    return games\n",
    "\n",
    "def create_df(playoffs):\n",
    "    df = pd.DataFrame(playoffs)\n",
    "    columns = df.columns\n",
    "    final = df.drop_duplicates().reset_index()[['age', 'ast', 'blk', 'date_game', 'drb', 'fg', 'fg3', 'fg3_pct', 'fg3a',\n",
    "        'fg_pct', 'fga', 'ft', 'ft_pct', 'fta', 'game_location', 'game_result',\n",
    "        'game_score', 'game_season', 'gs', 'mp', 'opp_id', 'orb', 'pf', 'pts',\n",
    "        'stl', 'team_id', 'tov', 'trb']]\n",
    "    \n",
    "    return final"
   ]
  },
  {
   "cell_type": "code",
   "execution_count": 56,
   "metadata": {},
   "outputs": [],
   "source": [
    "def get_playoff_df(link):\n",
    "\n",
    "    soup = get_html(link)\n",
    "    soup = get_table_html(soup)\n",
    "    playoffs = get_match_list(soup)\n",
    "\n",
    "    return create_df(playoffs)"
   ]
  },
  {
   "cell_type": "code",
   "execution_count": 57,
   "metadata": {
    "scrolled": true
   },
   "outputs": [],
   "source": [
    "link = 'https://www.basketball-reference.com/players/c/curryst01/gamelog/2015'\n",
    "df = get_playoff_df(link)"
   ]
  },
  {
   "cell_type": "code",
   "execution_count": 58,
   "metadata": {
    "scrolled": true
   },
   "outputs": [],
   "source": [
    "def get_choke(df):\n",
    "    if (df.game_score<12 and df.difference<15):\n",
    "        return 1\n",
    "    else:\n",
    "        return 0\n",
    "\n",
    "def process_df(df):\n",
    "\n",
    "    df['result'] = df.game_result.apply(lambda x: x[0])\n",
    "\n",
    "    df['difference'] = df.game_result.apply(lambda x: x[3:-1])\n",
    "    df['difference'] = df.difference.apply(int)\n",
    "    df['game_score'] = df.game_score.apply(float)\n",
    "\n",
    "    df['W'] = 0\n",
    "    df['L'] = 0\n",
    "    df['stage'] = 0\n",
    "    \n",
    "    df['choke'] = df.apply(get_choke, axis=1)\n",
    "    df['great'] = df.game_score.apply(lambda x: 1 if x>=24 else 0)\n",
    "    df['monster'] = df.game_score.apply(lambda x: 1 if x>=30 else 0)\n",
    "\n",
    "    for i in range(df.shape[0]):\n",
    "        if i == 0:\n",
    "            df.loc[i,'stage'] = 1\n",
    "\n",
    "        else:\n",
    "            if df.loc[i,'opp_id'] == df.loc[i-1,'opp_id']:\n",
    "                df.loc[i,'stage'] = df.loc[i-1,'stage'] \n",
    "                if df.loc[i-1,'result'] == 'W':\n",
    "                    df.loc[i,'W'] = df.loc[i-1,'W'] + 1\n",
    "                    df.loc[i,'L'] = df.loc[i-1,'L']\n",
    "                else: \n",
    "                    df.loc[i,'L'] = df.loc[i-1,'L'] + 1\n",
    "                    df.loc[i,'W'] = df.loc[i-1,'W']\n",
    "            else:\n",
    "                df.loc[i,'stage'] = df.loc[i-1,'stage'] + 0.33\n",
    "    \n",
    "    def weighted(df):\n",
    "        return df.game_score * df.stage\n",
    "    \n",
    "    df['w_game_score'] = df.apply(weighted,axis=1)\n",
    "\n",
    "    criteria = ((df[\"W\"] == 0) & (df[\"L\"] == 2)) \\\n",
    "                | ((df[\"W\"] == 1) & (df[\"L\"] == 2)) \\\n",
    "                | ((df[\"W\"] == 1) & (df[\"L\"] == 3)) \\\n",
    "                | ((df[\"W\"] == 2) & (df[\"L\"] == 2)) \\\n",
    "                | ((df[\"W\"] == 2) & (df[\"L\"] == 3)) \\\n",
    "                | ((df[\"W\"] == 3) & (df[\"L\"] == 2)) \\\n",
    "                | ((df[\"W\"] == 3) & (df[\"L\"] == 3)) \n",
    "\n",
    "    return df.loc[criteria]"
   ]
  },
  {
   "cell_type": "code",
   "execution_count": 60,
   "metadata": {},
   "outputs": [],
   "source": [
    "def get_player_results(name):\n",
    "    yearlist = player2year[name]\n",
    "    player = []\n",
    "    for year in yearlist:\n",
    "        try:\n",
    "            link = \"https://www.basketball-reference.com/players/c/\" + player2code[name] +\"/gamelog/\" + year\n",
    "            df = get_playoff_df(link)\n",
    "            df = process_df(df)\n",
    "            df['year'] = year\n",
    "            player.append(df)\n",
    "        except:\n",
    "            continue\n",
    "    result = pd.concat(player).reset_index()\n",
    "    result['name'] = name\n",
    "    \n",
    "    return {'Name': name, \\\n",
    "            'Average':round(result.game_score.mean(),2), \\\n",
    "            'Weighted Average':result.w_game_score.sum() / result.stage.sum(), \\\n",
    "            'Choke_count':result.choke.sum(), \\\n",
    "            'Great_count':result.great.sum(), \\\n",
    "            'Monster_count':result.monster.sum(), \\\n",
    "            'Win_percent':round(result[result['result']=='W'].shape[0] / result.shape[0],2), \\\n",
    "            'Total_games': result.shape[0]}, result"
   ]
  },
  {
   "cell_type": "code",
   "execution_count": 92,
   "metadata": {
    "scrolled": true
   },
   "outputs": [
    {
     "name": "stdout",
     "output_type": "stream",
     "text": [
      "Done: James Harden\n",
      "Done: Stephen Curry\n",
      "Done: Anthony Davis\n",
      "Done: Kevin Durant\n",
      "Done: LeBron James\n",
      "Done: Russell Westbrook\n",
      "Done: Kawhi Leonard\n",
      "Done: Chris Paul\n",
      "Done: Kobe Bryant\n",
      "Done: Tim Duncan\n",
      "Done: Dwight Howard\n",
      "Done: Dwayne Wade\n",
      "Done: Dirk Nowitzki\n",
      "Done: Kevin Garnett\n",
      "Done: Steve Nash\n",
      "Done: Allen Iverson\n",
      "Done: Shaquille O'Neal\n",
      "Done: Tracy McGrady\n",
      "Done: Jason Kidd\n",
      "Done: Gary Payton\n",
      "Done: Karl Malone\n",
      "Done: David Robinson\n",
      "Done: Scottie Pippen\n",
      "Done: John Stockton\n",
      "Done: Michael Jordan\n",
      "Done: Charles Barkley\n",
      "Done: Hakeem Olajuwon\n",
      "Done: Patrick Ewing\n",
      "Done: Dominique Wilkins\n",
      "Done: Isiah Thomas\n",
      "Done: Magic Johnson\n",
      "Done: Larry Bird\n"
     ]
    }
   ],
   "source": [
    "allplayer_scores = []\n",
    "allplayer_games = []\n",
    "for player in player2year.keys():\n",
    "    score, games = get_player_results(player)\n",
    "    allplayer_scores.append(score)\n",
    "    allplayer_games.append(games)\n",
    "    print(\"Done: {}\".format(player))\n",
    "\n",
    "scores_df = pd.DataFrame(allplayer_scores).reset_index()\n",
    "games_df = pd.concat(allplayer_games).reset_index()"
   ]
  }
 ],
 "metadata": {
  "kernelspec": {
   "display_name": "Python 3",
   "language": "python",
   "name": "python3"
  },
  "language_info": {
   "codemirror_mode": {
    "name": "ipython",
    "version": 3
   },
   "file_extension": ".py",
   "mimetype": "text/x-python",
   "name": "python",
   "nbconvert_exporter": "python",
   "pygments_lexer": "ipython3",
   "version": "3.6.8"
  },
  "toc": {
   "base_numbering": 1,
   "nav_menu": {},
   "number_sections": true,
   "sideBar": true,
   "skip_h1_title": false,
   "title_cell": "Table of Contents",
   "title_sidebar": "Contents",
   "toc_cell": true,
   "toc_position": {},
   "toc_section_display": true,
   "toc_window_display": false
  }
 },
 "nbformat": 4,
 "nbformat_minor": 2
}
