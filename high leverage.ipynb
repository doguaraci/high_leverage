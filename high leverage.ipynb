{
 "cells": [
  {
   "cell_type": "code",
   "execution_count": 1,
   "metadata": {},
   "outputs": [],
   "source": [
    "%load_ext autoreload\n",
    "%autoreload 2\n",
    "\n",
    "from bs4 import BeautifulSoup\n",
    "import requests\n",
    "from bs4 import Comment, Tag\n",
    "import pandas as pd\n",
    "import bs4\n",
    "from dictionaries import *\n",
    "PATH = '/Users/doguaraci/Desktop/nba'"
   ]
  },
  {
   "cell_type": "markdown",
   "metadata": {},
   "source": [
    "## Basketball Reference Game-log Scraper"
   ]
  },
  {
   "cell_type": "code",
   "execution_count": 2,
   "metadata": {},
   "outputs": [],
   "source": [
    "def get_html(link):\n",
    "    source = requests.get(link).text\n",
    "    soup = BeautifulSoup(source,'html5lib') \n",
    "    \n",
    "    return soup\n",
    "\n",
    "def get_table_html(soup):\n",
    "    for comment in soup.find_all(text=lambda e: isinstance(e, bs4.Comment)):\n",
    "        tag = bs4.Tag(name=\"comment\")\n",
    "        tag.string = comment.strip()\n",
    "        comment.replace_with(tag)\n",
    "    a = soup.find_all('comment')\n",
    "    text = str(a[21])\n",
    "    text = text.replace('&lt;','<')\n",
    "    text = text.replace('&gt;','>')\n",
    "    \n",
    "    result = BeautifulSoup(text,'html5lib') \n",
    "    \n",
    "    return result.find('table')\n",
    "\n",
    "def get_match_list(soup):\n",
    "    games = []\n",
    "    for a in soup.find_all('tr')[1:]:    \n",
    "        newdict = {}\n",
    "        for d in a.find_all('td'):\n",
    "            newdict[d['data-stat']] = d.text\n",
    "            games.append(newdict)   \n",
    "    return games\n",
    "\n",
    "def create_df(playoffs):\n",
    "    df = pd.DataFrame(playoffs)\n",
    "    columns = df.columns\n",
    "    final = df.drop_duplicates().reset_index()[['age', 'ast', 'blk', 'date_game', 'drb', 'fg', 'fg3', 'fg3_pct', 'fg3a',\n",
    "        'fg_pct', 'fga', 'ft', 'ft_pct', 'fta', 'game_location', 'game_result',\n",
    "        'game_score', 'game_season', 'gs', 'mp', 'opp_id', 'orb', 'pf', 'pts',\n",
    "        'stl', 'team_id', 'tov', 'trb']]\n",
    "    \n",
    "    return final"
   ]
  },
  {
   "cell_type": "code",
   "execution_count": 3,
   "metadata": {},
   "outputs": [],
   "source": [
    "def get_playoff_df(link):\n",
    "\n",
    "    soup = get_html(link)\n",
    "    soup = get_table_html(soup)\n",
    "    playoffs = get_match_list(soup)\n",
    "\n",
    "    return create_df(playoffs)"
   ]
  },
  {
   "cell_type": "markdown",
   "metadata": {},
   "source": [
    "## Create ranking"
   ]
  },
  {
   "cell_type": "code",
   "execution_count": 9,
   "metadata": {
    "scrolled": true
   },
   "outputs": [],
   "source": [
    "def get_choke(df):\n",
    "    if (df.game_score<10 and df.difference<15):\n",
    "        return 1\n",
    "    else:\n",
    "        return 0\n",
    "\n",
    "def process_df(df):\n",
    "\n",
    "    df['result'] = df.game_result.apply(lambda x: x[0])\n",
    "\n",
    "    df['difference'] = df.game_result.apply(lambda x: x[3:-1])\n",
    "    df['difference'] = df.difference.apply(int)\n",
    "    df['game_score'] = df.game_score.apply(float)\n",
    "\n",
    "    df['W'] = 0\n",
    "    df['L'] = 0\n",
    "    df['stage'] = 0\n",
    "    \n",
    "    df['choke'] = df.apply(get_choke, axis=1)\n",
    "    df['great'] = df.game_score.apply(lambda x: 1 if x>=25 else 0)\n",
    "    df['monster'] = df.game_score.apply(lambda x: 1 if x>=30 else 0)\n",
    "\n",
    "    for i in range(df.shape[0]):\n",
    "        if i == 0:\n",
    "            df.loc[i,'stage'] = 1\n",
    "\n",
    "        else:\n",
    "            if df.loc[i,'opp_id'] == df.loc[i-1,'opp_id']:\n",
    "                df.loc[i,'stage'] = df.loc[i-1,'stage'] \n",
    "                if df.loc[i-1,'result'] == 'W':\n",
    "                    df.loc[i,'W'] = df.loc[i-1,'W'] + 1\n",
    "                    df.loc[i,'L'] = df.loc[i-1,'L']\n",
    "                else: \n",
    "                    df.loc[i,'L'] = df.loc[i-1,'L'] + 1\n",
    "                    df.loc[i,'W'] = df.loc[i-1,'W']\n",
    "            else:\n",
    "                df.loc[i,'stage'] = df.loc[i-1,'stage'] + 0.33\n",
    "    \n",
    "\n",
    "    criteria2 = ((df[\"W\"] == 0) & (df[\"L\"] == 2)) \\\n",
    "                | ((df[\"W\"] == 1) & (df[\"L\"] == 2)) \\\n",
    "                | ((df[\"W\"] == 1) & (df[\"L\"] == 3)) \\\n",
    "                | ((df[\"W\"] == 2) & (df[\"L\"] == 2)) \\\n",
    "                | ((df[\"W\"] == 2) & (df[\"L\"] == 3)) \\\n",
    "                | ((df[\"W\"] == 3) & (df[\"L\"] == 2)) \\\n",
    "                | ((df[\"W\"] == 3) & (df[\"L\"] == 3))\n",
    "    \n",
    "    criteria = ((df[\"W\"] == 0) & (df[\"L\"] == 2)) \\\n",
    "                | ((df[\"W\"] == 1) & (df[\"L\"] == 2)) \\\n",
    "                | ((df[\"W\"] == 1) & (df[\"L\"] == 3)) \\\n",
    "                | ((df[\"W\"] == 2) & (df[\"L\"] == 2)) \\\n",
    "                | ((df[\"W\"] == 2) & (df[\"L\"] == 3)) \\\n",
    "                | ((df[\"W\"] == 3) & (df[\"L\"] == 2)) \\\n",
    "                | ((df[\"W\"] == 3) & (df[\"L\"] == 3)) \\\n",
    "                | ((df['stage'] > 1.5) & ((((df[\"W\"] != 3) & (df[\"L\"] != 0))) | ((df[\"W\"] != 0) & (df[\"L\"] != 3))))\n",
    "    \n",
    "    df.loc[criteria2,'stage'] = df.loc[criteria2,'stage'] * 1.15\n",
    "    \n",
    "    def weighted(df):\n",
    "        return df.game_score * df.stage\n",
    "    \n",
    "    df['w_game_score'] = df.apply(weighted,axis=1)\n",
    "\n",
    "    \n",
    "    return df[criteria]"
   ]
  },
  {
   "cell_type": "code",
   "execution_count": 10,
   "metadata": {},
   "outputs": [],
   "source": [
    "def get_player_results(name):\n",
    "    yearlist = player2year[name]\n",
    "    player = []\n",
    "    for year in yearlist:\n",
    "        try:\n",
    "            link = \"https://www.basketball-reference.com/players/c/\" + player2code[name] +\"/gamelog/\" + year\n",
    "            df = get_playoff_df(link)\n",
    "            df = process_df(df)\n",
    "            df['year'] = year\n",
    "            player.append(df)\n",
    "        except:\n",
    "            continue\n",
    "    result = pd.concat(player).reset_index()\n",
    "    result['name'] = name\n",
    "    \n",
    "    return {'Name': name, \\\n",
    "            'Average':round(result.game_score.mean(),2), \\\n",
    "            'Weighted Average':result.w_game_score.sum() / result.stage.sum(), \\\n",
    "            'Choke_count':result.choke.sum(), \\\n",
    "            'Great_count':result.great.sum(), \\\n",
    "            'Monster_count':result.monster.sum(), \\\n",
    "            'Win_percent':round(result[result['result']=='W'].shape[0] / result.shape[0],2), \\\n",
    "            'Total_games': result.shape[0]}, result"
   ]
  },
  {
   "cell_type": "markdown",
   "metadata": {},
   "source": [
    "## Get results"
   ]
  },
  {
   "cell_type": "code",
   "execution_count": 6,
   "metadata": {
    "scrolled": true
   },
   "outputs": [
    {
     "name": "stdout",
     "output_type": "stream",
     "text": [
      "Done: James Harden\n",
      "Done: Stephen Curry\n",
      "Done: Anthony Davis\n",
      "Done: Kevin Durant\n",
      "Done: LeBron James\n",
      "Done: Russell Westbrook\n",
      "Done: Kawhi Leonard\n",
      "Done: Chris Paul\n",
      "Done: Kobe Bryant\n",
      "Done: Tim Duncan\n",
      "Done: Dwight Howard\n",
      "Done: Dwayne Wade\n",
      "Done: Dirk Nowitzki\n",
      "Done: Kevin Garnett\n",
      "Done: Steve Nash\n",
      "Done: Allen Iverson\n",
      "Done: Shaquille O'Neal\n",
      "Done: Tracy McGrady\n",
      "Done: Jason Kidd\n",
      "Done: Gary Payton\n",
      "Done: Karl Malone\n",
      "Done: David Robinson\n",
      "Done: Scottie Pippen\n",
      "Done: John Stockton\n",
      "Done: Michael Jordan\n",
      "Done: Charles Barkley\n",
      "Done: Hakeem Olajuwon\n",
      "Done: Patrick Ewing\n",
      "Done: Dominique Wilkins\n",
      "Done: Isiah Thomas\n",
      "Done: Magic Johnson\n",
      "Done: Larry Bird\n"
     ]
    }
   ],
   "source": [
    "allplayer_scores = []\n",
    "allplayer_games = []\n",
    "for player in player2year.keys():\n",
    "    score, games = get_player_results(player)\n",
    "    allplayer_scores.append(score)\n",
    "    allplayer_games.append(games)\n",
    "    print(\"Done: {}\".format(player))\n",
    "\n",
    "scores_df = pd.DataFrame(allplayer_scores).reset_index()\n",
    "games_df = pd.concat(allplayer_games).reset_index()"
   ]
  },
  {
   "cell_type": "code",
   "execution_count": 15,
   "metadata": {},
   "outputs": [],
   "source": [
    "scores_df = scores_df.sort_values(by='Weighted Average',ascending=False)"
   ]
  },
  {
   "cell_type": "code",
   "execution_count": 16,
   "metadata": {},
   "outputs": [],
   "source": [
    "scores_df = scores_df[scores_df['Total_games'] > 15]"
   ]
  },
  {
   "cell_type": "code",
   "execution_count": 17,
   "metadata": {},
   "outputs": [],
   "source": [
    "scores_df.to_csv('scores.csv')"
   ]
  },
  {
   "cell_type": "code",
   "execution_count": 18,
   "metadata": {},
   "outputs": [],
   "source": [
    "games_df.to_csv('games.csv')"
   ]
  },
  {
   "cell_type": "code",
   "execution_count": 19,
   "metadata": {},
   "outputs": [],
   "source": [
    "a = games_df[games_df['choke']==1].groupby('name')"
   ]
  },
  {
   "cell_type": "code",
   "execution_count": 22,
   "metadata": {},
   "outputs": [
    {
     "data": {
      "text/plain": [
       "name\n",
       "Allen Iverson         6.516667\n",
       "Charles Barkley       6.350000\n",
       "Chris Paul            8.000000\n",
       "David Robinson        9.150000\n",
       "Dirk Nowitzki         6.141667\n",
       "Dominique Wilkins     3.350000\n",
       "Dwayne Wade           8.463636\n",
       "Dwight Howard         7.771429\n",
       "Gary Payton           8.475000\n",
       "Hakeem Olajuwon       6.125000\n",
       "Isiah Thomas          8.722222\n",
       "James Harden          4.225000\n",
       "Jason Kidd            6.775000\n",
       "John Stockton         7.200000\n",
       "Karl Malone           9.462500\n",
       "Kevin Durant          6.750000\n",
       "Kevin Garnett         9.985714\n",
       "Kobe Bryant           7.737500\n",
       "Larry Bird            8.700000\n",
       "LeBron James          8.372727\n",
       "Magic Johnson         6.733333\n",
       "Michael Jordan        9.100000\n",
       "Patrick Ewing         6.850000\n",
       "Russell Westbrook     7.066667\n",
       "Scottie Pippen        8.415789\n",
       "Shaquille O'Neal      8.086667\n",
       "Stephen Curry         6.614286\n",
       "Steve Nash            7.918182\n",
       "Tim Duncan            8.527778\n",
       "Tracy McGrady        10.200000\n",
       "Name: game_score, dtype: float64"
      ]
     },
     "execution_count": 22,
     "metadata": {},
     "output_type": "execute_result"
    }
   ],
   "source": [
    "a['game_score'].agg('mean')"
   ]
  },
  {
   "cell_type": "code",
   "execution_count": null,
   "metadata": {},
   "outputs": [],
   "source": []
  }
 ],
 "metadata": {
  "kernelspec": {
   "display_name": "Python 3",
   "language": "python",
   "name": "python3"
  },
  "language_info": {
   "codemirror_mode": {
    "name": "ipython",
    "version": 3
   },
   "file_extension": ".py",
   "mimetype": "text/x-python",
   "name": "python",
   "nbconvert_exporter": "python",
   "pygments_lexer": "ipython3",
   "version": "3.6.8"
  },
  "toc": {
   "base_numbering": 1,
   "nav_menu": {},
   "number_sections": true,
   "sideBar": true,
   "skip_h1_title": false,
   "title_cell": "Table of Contents",
   "title_sidebar": "Contents",
   "toc_cell": true,
   "toc_position": {},
   "toc_section_display": true,
   "toc_window_display": false
  }
 },
 "nbformat": 4,
 "nbformat_minor": 2
}
